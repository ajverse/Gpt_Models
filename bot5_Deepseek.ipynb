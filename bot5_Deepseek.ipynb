{
 "cells": [
  {
   "cell_type": "code",
   "execution_count": 2,
   "id": "cc38d294",
   "metadata": {},
   "outputs": [
    {
     "name": "stdout",
     "output_type": "stream",
     "text": [
      "Generative AI (Gen AI) refers to a subset of artificial intelligence focused on creating new content—such as text, images, music, or code—rather than merely analyzing or classifying existing data. Unlike traditional AI, which might predict outcomes or recognize patterns, Gen AI produces original outputs by learning from vast datasets. Here's a breakdown:\n",
      "\n",
      "### **Key Concepts**\n",
      "1. **How It Works**:\n",
      "   - **Neural Networks**: Uses architectures like transformers (e.g., GPT for text) or GANs (Generative Adversarial Networks for images). Transformers leverage attention mechanisms to process sequential data, while GANs pit a \"generator\" against a \"discriminator\" to create realistic outputs.\n",
      "   - **Training**: Models learn patterns from large datasets (e.g., books, images, code) and generate new content by predicting likely sequences or features.\n",
      "\n",
      "2. **Examples**:\n",
      "   - **Text**: ChatGPT writes essays, answers questions, or creates stories.\n",
      "   - **Images**: DALL-E, Midjourney generate visuals from text prompts.\n",
      "   - **Code**: GitHub Copilot assists programmers by suggesting code snippets.\n",
      "   - **Audio**: Tools like Jukedeck compose music or clone voices.\n",
      "\n",
      "3. **Technology Behind It**:\n",
      "   - **Foundation Models**: Large pre-trained models (e.g., GPT-4) adaptable to various tasks via fine-tuning.\n",
      "   - **Scale**: Requires massive computational power and data, enabled by advances in hardware (GPUs) and cloud computing.\n",
      "\n",
      "### **Applications**\n",
      "- **Content Creation**: Marketing copy, art, video scripts.\n",
      "- **Design**: Prototyping products, generating graphics.\n",
      "- **Gaming**: Building dynamic worlds or dialogue for NPCs.\n",
      "- **Healthcare**: Simulating molecular structures for drug discovery.\n",
      "\n",
      "### **Challenges & Considerations**\n",
      "- **Ethics**: Risks include deepfakes, misinformation, and copyright disputes.\n",
      "- **Bias**: Models may inherit biases from training data.\n",
      "- **Environmental Impact**: High energy consumption during training.\n",
      "\n",
      "### **Why It’s Transformative**\n",
      "Gen AI democratizes creativity, enabling non-experts to produce sophisticated outputs. However, its rapid growth demands responsible use frameworks to address societal and ethical implications.\n"
     ]
    }
   ],
   "source": [
    "from openai import OpenAI\n",
    "\n",
    "client = OpenAI(\n",
    "  base_url=\"https://openrouter.ai/api/v1\",\n",
    "  api_key=\"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\",\n",
    ")\n",
    "\n",
    "completion = client.chat.completions.create(\n",
    "  extra_body={},\n",
    "  model=\"deepseek/deepseek-r1:free\",\n",
    "  messages=[\n",
    "    {\n",
    "      \"role\": \"user\",\n",
    "      \"content\": \"What is gen ai?\"\n",
    "    }\n",
    "  ]\n",
    ")\n",
    "print(completion.choices[0].message.content)"
   ]
  },
  {
   "cell_type": "code",
   "execution_count": null,
   "id": "671c6f54",
   "metadata": {},
   "outputs": [],
   "source": []
  }
 ],
 "metadata": {
  "kernelspec": {
   "display_name": "base",
   "language": "python",
   "name": "python3"
  },
  "language_info": {
   "codemirror_mode": {
    "name": "ipython",
    "version": 3
   },
   "file_extension": ".py",
   "mimetype": "text/x-python",
   "name": "python",
   "nbconvert_exporter": "python",
   "pygments_lexer": "ipython3",
   "version": "3.12.7"
  }
 },
 "nbformat": 4,
 "nbformat_minor": 5
}
